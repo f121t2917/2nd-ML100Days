{
 "cells": [
  {
   "cell_type": "markdown",
   "metadata": {},
   "source": [
    "作業1：請觀看 Coursera Andrew Ng 教授的影片。影片裡會講授 unsupervised learning 概念，及會介紹很多其應用場景。\n",
    "\n",
    "\n",
    "https://www.youtube.com/watch?v=jAA2g9ItoAc\n",
    "\n",
    "# 參考資料\n",
    "[Unsupervised learning：PCA](http://speech.ee.ntu.edu.tw/~tlkagk/courses/ML_2017/Lecture/PCA.mp4)\n",
    "\n",
    "[Scikit-learn unsupervised learning](http://scikit-learn.org/stable/unsupervised_learning.html)"
   ]
  },
  {
   "cell_type": "markdown",
   "metadata": {},
   "source": [
    "# 作業\n",
    "* 試著想想看, 非監督學習是否有可能使用評價函數 (Metric) 來鑑別好壞呢?  \n",
    "(Hint : 可以分為 \"有目標值\" 與 \"無目標值\" 兩個方向思考)\n",
    "\n",
    "\n",
    "在數學中，一個度量（Metric或距離函數）是一個定義集合中元素之間距離的函數。一個具有度量的集合被稱爲度量空間。\n",
    "\n",
    "\n",
    "### 無目標值\n",
    "在於找出輸入變數間的內部關係與資料的形貌(pattern)，找出資料間大致分布的趨勢，而沒有要預測的對象。\n",
    "無目標值也可以自己生成label變成監督學習來用accuracy來判斷好壞。\n",
    "\n",
    "### 有目標值\n",
    "可以先忽略其目標值，找出資料間的分佈後，再利用其目標值來判斷好壞。"
   ]
  },
  {
   "cell_type": "code",
   "execution_count": null,
   "metadata": {
    "collapsed": true
   },
   "outputs": [],
   "source": []
  }
 ],
 "metadata": {
  "kernelspec": {
   "display_name": "Python 3",
   "language": "python",
   "name": "python3"
  },
  "language_info": {
   "codemirror_mode": {
    "name": "ipython",
    "version": 3
   },
   "file_extension": ".py",
   "mimetype": "text/x-python",
   "name": "python",
   "nbconvert_exporter": "python",
   "pygments_lexer": "ipython3",
   "version": "3.7.3"
  }
 },
 "nbformat": 4,
 "nbformat_minor": 1
}
