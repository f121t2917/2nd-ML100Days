{
 "cells": [
  {
   "cell_type": "markdown",
   "metadata": {},
   "source": [
    "# 參考資料\n",
    "人工智慧大歷史 林守德教授演講  / Mora Chen 筆記 [網頁連結](https://medium.com/@suipichen/%E4%BA%BA%E5%B7%A5%E6%99%BA%E6%85%A7%E5%A4%A7%E6%AD%B7%E5%8F%B2-ffe46a350543)\n",
    "\n",
    "本文重點為下圖，主要是希望同學大致了解所謂人工智慧 / 類神經網路的大起大落，大概每個階段發生了什麼事情 ",
    "藉由歷史我們可以對 「為什麼今天能，而過去不能」 有更深刻的認知。\n",
    "\n",
    "同學對於其中的名詞不用過於深究，與應用相關的部分我們會在後面的課程中仔細講解，這邊只要知道大概即可。\n",
    "![d63_1](../img/d63_1.png)\n",
    "\n",
    "泛科學：3 分鐘搞懂深度學習到底在深什麼 節錄李宏毅老師演講 [網頁連結](https://panx.asia/archives/53209)\n",
    "\n",
    "本文主要在李宏毅老師下列這段深度學習介紹，雖詼諧卻也言簡意賅\n",
    "\n",
    "深度學習其實很簡單，就跟把大象放進冰箱一樣，只需三個步驟：「打開冰箱、放進大象、關上冰箱門。」專攻語音辨識領域深度學習的台大電機系教授李宏毅說，「深度學習也只要三個步驟：建構網路、設定目標、開始學習，說穿了就是這麼簡單。」\n",
    "\n",
    "\n",
    "\n",
    "除了文中其他部分的簡要描述外，李老師視頻課程中貢獻良多，內容深入淺出，有興趣的同學也可以參考下列李老師的深度學習清單：\n",
    "[連結](https://www.youtube.com/watch?v=KKT2VkTdFyc)"
   ]
  },
  {
   "cell_type": "markdown",
   "metadata": {},
   "source": [
    "# 作業\n",
    "* 在精簡深度學習的方式上 : 卷積類神經 (CNN) 採用像素遠近，而遞歸類神經 (RNN) 採用著則是時間遠近\n",
    "* 那麼，既然有著類似的設計精神，兩者是否有可能互換應用呢?"
   ]
  },
  {
   "cell_type": "code",
   "execution_count": null,
   "metadata": {
    "collapsed": true
   },
   "outputs": [],
   "source": []
  }
 ],
 "metadata": {
  "kernelspec": {
   "display_name": "Python 3",
   "language": "python",
   "name": "python3"
  },
  "language_info": {
   "codemirror_mode": {
    "name": "ipython",
    "version": 3
   },
   "file_extension": ".py",
   "mimetype": "text/x-python",
   "name": "python",
   "nbconvert_exporter": "python",
   "pygments_lexer": "ipython3",
   "version": "3.7.3"
  }
 },
 "nbformat": 4,
 "nbformat_minor": 2
}
