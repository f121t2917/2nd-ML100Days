{
 "cells": [
  {
   "cell_type": "markdown",
   "metadata": {},
   "source": [
    "## [作業重點]\n",
    "請完成 scikit-learn-practice 比賽(點擊連結可至競賽頁面)，讓大家熟悉 Scikit-learn 的比賽\n",
    "\n",
    "\n",
    "總共有一千筆訓練資料、40個 features，二元分類問題，練習 features scaling、建模、調參數等步驟\n",
    "\n",
    "\n",
    "每天最多上傳 10 次結果\n",
    "\n",
    "\n",
    "請在 private / public leaderboard 上取得 0.7 以上的準確率\n",
    "\n",
    "\n",
    "可多參考別人的 Kernel，學習別人的寫法與思路，完成自己的 Kaggle 競賽\n",
    "\n",
    "\n",
    "作業提交請截圖kaggle競賽頁面提交畫面上傳至github，並回到官網提交github連結。(以下為Kaggle競賽頁面截圖範例)\n",
    "\n",
    "![d48_1](../img/d48_1.jpeg)"
   ]
  },
  {
   "cell_type": "code",
   "execution_count": 1,
   "metadata": {},
   "outputs": [],
   "source": [
    "import numpy as np\n",
    "import pandas as pd"
   ]
  },
  {
   "cell_type": "code",
   "execution_count": 2,
   "metadata": {},
   "outputs": [
    {
     "name": "stdout",
     "output_type": "stream",
     "text": [
      " training data shape : (1000, 40) \n",
      " training label shape : (1000, 1) \n",
      " testing data shape : (9000, 40) \n"
     ]
    }
   ],
   "source": [
    "train_df = pd.read_csv('../data/data-science-london-scikit-learn/train.csv',header = None)\n",
    "train_label = pd.read_csv('../data/data-science-london-scikit-learn/trainLabels.csv',header = None)\n",
    "test_df = pd.read_csv('../data/data-science-london-scikit-learn/test.csv',header = None)\n",
    "\n",
    "train_label.columns = ['Solution']\n",
    "\n",
    "\n",
    "print(f' training data shape : {train_df.shape} ')\n",
    "print(f' training label shape : {train_label.shape} ')\n",
    "print(f' testing data shape : {test_df.shape} ')"
   ]
  },
  {
   "cell_type": "code",
   "execution_count": 5,
   "metadata": {},
   "outputs": [
    {
     "name": "stderr",
     "output_type": "stream",
     "text": [
      "/anaconda3/lib/python3.7/site-packages/sklearn/utils/validation.py:761: DataConversionWarning: A column-vector y was passed when a 1d array was expected. Please change the shape of y to (n_samples, ), for example using ravel().\n",
      "  y = column_or_1d(y, warn=True)\n"
     ]
    },
    {
     "name": "stdout",
     "output_type": "stream",
     "text": [
      " Accuracy with non-tuned classifier : 0.865\n"
     ]
    }
   ],
   "source": [
    "from sklearn.ensemble import GradientBoostingClassifier\n",
    "from sklearn.model_selection import train_test_split\n",
    "from sklearn import metrics\n",
    "\n",
    "total_df = pd.concat([train_df, test_df], axis = 0)\n",
    "\n",
    "train_x = total_df[:len(train_df)]\n",
    "test_x = total_df[len(train_df):]\n",
    "\n",
    "clf = GradientBoostingClassifier()\n",
    "\n",
    "x_train, x_test, y_train, y_test = train_test_split(train_x,train_label, test_size = 0.2, random_state = 2019)\n",
    "clf.fit(x_train, y_train)\n",
    "pred = clf.predict(x_test)\n",
    "\n",
    "print(f' Accuracy with non-tuned classifier : {metrics.accuracy_score(pred,y_test)}')"
   ]
  },
  {
   "cell_type": "code",
   "execution_count": 7,
   "metadata": {},
   "outputs": [
    {
     "data": {
      "text/plain": [
       "array([1, 0, 0, 0, 1, 0, 0, 1, 0, 0])"
      ]
     },
     "execution_count": 7,
     "metadata": {},
     "output_type": "execute_result"
    }
   ],
   "source": [
    "prediction = clf.predict(test_x)\n",
    "prediction[:10]"
   ]
  },
  {
   "cell_type": "code",
   "execution_count": 8,
   "metadata": {},
   "outputs": [],
   "source": [
    "output = pd.DataFrame({'Id' : np.arange(1,len(test_x)+1,1), 'Solution' : prediction})\n",
    "output.head(10)\n",
    "output.to_csv('Submission.csv', index = False)"
   ]
  },
  {
   "cell_type": "code",
   "execution_count": null,
   "metadata": {},
   "outputs": [],
   "source": []
  }
 ],
 "metadata": {
  "kernelspec": {
   "display_name": "Python 3",
   "language": "python",
   "name": "python3"
  },
  "language_info": {
   "codemirror_mode": {
    "name": "ipython",
    "version": 3
   },
   "file_extension": ".py",
   "mimetype": "text/x-python",
   "name": "python",
   "nbconvert_exporter": "python",
   "pygments_lexer": "ipython3",
   "version": "3.7.3"
  }
 },
 "nbformat": 4,
 "nbformat_minor": 2
}
