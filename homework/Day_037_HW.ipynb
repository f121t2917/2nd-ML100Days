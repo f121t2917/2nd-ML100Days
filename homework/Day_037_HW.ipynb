{
 "cells": [
  {
   "cell_type": "markdown",
   "metadata": {},
   "source": [
    "## [作業重點]\n",
    "了解線性回歸的模型發展歷程，並了解優勢與劣勢，以及其使用情境"
   ]
  },
  {
   "cell_type": "markdown",
   "metadata": {},
   "source": [
    "# 參考資料\n",
    "\n",
    "* [超人氣 Stanford 教授 Andrew Ng 教你 Linear regression](https://zh-tw.coursera.org/lecture/machine-learning/model-representation-db3jS) (強烈推薦觀看) \n",
    "* [Logistic regression 數學原理](https://blog.csdn.net/qq_23269761/article/details/81778585)"
   ]
  },
  {
   "cell_type": "markdown",
   "metadata": {},
   "source": [
    "## 作業"
   ]
  },
  {
   "cell_type": "markdown",
   "metadata": {},
   "source": [
    "請閱讀以下相關文獻，並回答以下問題\n",
    "\n",
    "[Linear Regression 詳細介紹](https://brohrer.mcknote.com/zh-Hant/how_machine_learning_works/how_linear_regression_works.html)\n",
    "\n",
    "[Logistics Regression 詳細介紹](https://medium.com/@yehjames/%E8%B3%87%E6%96%99%E5%88%86%E6%9E%90-%E6%A9%9F%E5%99%A8%E5%AD%B8%E7%BF%92-%E7%AC%AC3-3%E8%AC%9B-%E7%B7%9A%E6%80%A7%E5%88%86%E9%A1%9E-%E9%82%8F%E8%BC%AF%E6%96%AF%E5%9B%9E%E6%AD%B8-logistic-regression-%E4%BB%8B%E7%B4%B9-a1a5f47017e5)\n",
    "\n",
    "[你可能不知道的 Logistic Regression](https://taweihuang.hpd.io/2017/12/22/logreg101/)"
   ]
  },
  {
   "cell_type": "markdown",
   "metadata": {},
   "source": [
    "1. 線性回歸模型能夠準確預測非線性關係的資料集嗎?\n",
    "2. 回歸模型是否對資料分布有基本假設?\n",
    "\n",
    "\n",
    "1. 使用線性回歸 Linear regression 來預測非線性的資料集時，Linear Regressio的表現就會變差。而Logistic Regression是廣義的線性模型(Generalized Linear Models)，將線性回歸的結果，加上 Sigmoid 函數，來解決非線性問題。\n",
    "2. 1. 隨機誤差項是一個期望值或平均值為0的隨機變量\n",
    "   2. 對於解釋變量的所有觀測值，隨機誤差項有相同的方差\n",
    "   3. 隨機誤差項彼此不相關\n",
    "   4. 解釋變量是確定性變量，不是隨機變量，與隨機誤差項彼此之間相互獨立\n",
    "   5. 解釋變量之間不存在精確的（完全的）線性關係，即解釋變量的樣本觀測值矩陣是滿秩矩陣\n",
    "   6. 隨機誤差項服從正態分佈\n",
    "\n",
    "\n",
    "[參考資料1](https://blog.csdn.net/Noob_daniel/article/details/76087829)、[參考資料2](https://zhuanlan.zhihu.com/p/45427806)"
   ]
  },
  {
   "cell_type": "code",
   "execution_count": null,
   "metadata": {},
   "outputs": [],
   "source": []
  }
 ],
 "metadata": {
  "kernelspec": {
   "display_name": "Python 3",
   "language": "python",
   "name": "python3"
  },
  "language_info": {
   "codemirror_mode": {
    "name": "ipython",
    "version": 3
   },
   "file_extension": ".py",
   "mimetype": "text/x-python",
   "name": "python",
   "nbconvert_exporter": "python",
   "pygments_lexer": "ipython3",
   "version": "3.7.3"
  }
 },
 "nbformat": 4,
 "nbformat_minor": 2
}
